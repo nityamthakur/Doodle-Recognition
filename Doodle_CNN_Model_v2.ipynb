{
 "cells": [
  {
   "cell_type": "code",
   "execution_count": null,
   "metadata": {
    "colab": {
     "base_uri": "https://localhost:8080/",
     "height": 71
    },
    "colab_type": "code",
    "id": "xz8Ml5dhho2t",
    "outputId": "0db844c8-38e1-4ab8-8074-6c21527da51a"
   },
   "outputs": [],
   "source": [
    "# importing libraries\n",
    "import pandas as pd\n",
    "import numpy as np\n",
    "\n",
    "import urllib.request\n",
    "import os \n",
    "\n",
    "# For Visualization \n",
    "import matplotlib.pyplot as plt\n",
    "import matplotlib.patheffects as PathEffects\n",
    "import matplotlib\n",
    "import seaborn as sns\n",
    "\n",
    "\n",
    "from sklearn.manifold import TSNE\n",
    "\n",
    "import glob\n",
    "\n",
    "# Model Training\n",
    "from tensorflow.keras import layers\n",
    "from tensorflow import keras \n",
    "import tensorflow as tf\n",
    "\n",
    "# Function to create cnn model\n",
    "from imutils.video import VideoStream\n",
    "from imutils.video import FPS\n",
    "import argparse\n",
    "import imutils\n",
    "import time\n",
    "from keras import models\n",
    "from keras.models import Sequential\n",
    "from keras.layers import Conv2D\n",
    "from keras.layers import MaxPooling2D\n",
    "from keras.layers import Dense\n",
    "from keras.layers import Flatten\n",
    "from keras.optimizers import SGD\n",
    "from keras.preprocessing.image import ImageDataGenerator\n",
    "from keras.layers import Dropout\n",
    "from keras.models import load_model\n",
    "from keras.layers import Input, GlobalAveragePooling2D, BatchNormalization, Activation\n",
    "from keras.optimizers import Adam\n",
    "import cv2"
   ]
  },
  {
   "cell_type": "code",
   "execution_count": null,
   "metadata": {
    "colab": {
     "base_uri": "https://localhost:8080/",
     "height": 34
    },
    "colab_type": "code",
    "id": "52AElpc1jlqQ",
    "outputId": "84ac4e25-b534-4674-c5ff-9930594749f6"
   },
   "outputs": [],
   "source": [
    "# Trained and Tested for classes\n",
    "class_names = ['fish','triangle','train','computer','submarine','pizza','suitcase',\n",
    "               'streetlight','bicycle','apple','mushroom','broom','scissors',\n",
    "               'vase','star','truck','spreadsheet','snail','flower','sun','van','snowflake',\n",
    "               'toe','dog','butterfly','tooth','rainbow','sailboat','sock',\n",
    "               'squiggle','hat','ant','speedboat','bench','wristwatch','toothbrush','shark',\n",
    "               'sandwich','stairs','toaster','helicopter','bed',\n",
    "                'calculator','whale','television','elephant','snake','grapes','firetruck','tree','shoe']\n",
    "                \n",
    "\n",
    "len(class_names)"
   ]
  },
  {
   "cell_type": "code",
   "execution_count": null,
   "metadata": {
    "colab": {},
    "colab_type": "code",
    "id": "mNSEXa54jnsV"
   },
   "outputs": [],
   "source": [
    "# Random state.\n",
    "RS = 100\n",
    "\n",
    "# We import seaborn to make nice plots.\n",
    "import seaborn as sns\n",
    "sns.set_style('darkgrid')\n",
    "sns.set_palette('muted')\n",
    "sns.set_context(\"notebook\", font_scale=1.5,\n",
    "                rc={\"lines.linewidth\": 2.5})\n",
    "\n",
    "\n",
    "\n",
    "# Download classes mentioned in list and reshape data\n",
    "def download_and_load(test_split = 0.2, max_items_per_class = 15000):\n",
    "    root = 'dataset_v2'\n",
    "    os.mkdir('dataset_v2')\n",
    "    print('downloading ...')\n",
    "    base = 'https://storage.googleapis.com/quickdraw_dataset/full/numpy_bitmap/'\n",
    "    for c in class_names:\n",
    "        path = base+c+'.npy'\n",
    "        print(path)\n",
    "        urllib.request.urlretrieve(path, f'{root}/{c}.npy')\n",
    "        print('loading ...')\n",
    "  \n",
    "    #initialize variables \n",
    "    x = np.empty([0, 784])\n",
    "    y = np.empty([0])\n",
    "    #load each data file \n",
    "    for idx, file in enumerate(class_names):\n",
    "        data = np.load(f'{root}/{file}.npy')\n",
    "        data = data[0: max_items_per_class, :]\n",
    "        labels = np.full(data.shape[0], idx)\n",
    "        x = np.concatenate((x, data), axis=0)\n",
    "        y = np.append(y, labels)\n",
    "    data = None\n",
    "    labels = None\n",
    "    #randomize the dataset \n",
    "    permutation = np.random.permutation(y.shape[0])\n",
    "    x = x[permutation, :]\n",
    "    y = y[permutation]\n",
    "    #reshape and inverse the colors \n",
    "    x = 255 - np.reshape(x, (x.shape[0], 28, 28))\n",
    "\n",
    "    #separate into training and testing \n",
    "    test_size  = int(x.shape[0]/100*(test_split*100))\n",
    "    x_test = x[0:test_size, :]\n",
    "    y_test = y[0:test_size]\n",
    "    x_train = x[test_size:x.shape[0], :]\n",
    "    y_train = y[test_size:y.shape[0]]\n",
    "    \n",
    "    print('Training Data : ', x_train.shape[0])\n",
    "    print('Testing  Data : ', x_test.shape[0])\n",
    "    return x_train, y_train, x_test, y_test, class_names"
   ]
  },
  {
   "cell_type": "code",
   "execution_count": null,
   "metadata": {
    "colab": {},
    "colab_type": "code",
    "id": "RuqDBD3FjvbP"
   },
   "outputs": [],
   "source": [
    "# Do some visualization\n",
    "def scatter(x, colors):\n",
    "    # We choose a color palette with seaborn.\n",
    "    palette = np.array(sns.color_palette(\"hls\", 10))\n",
    "\n",
    "    # We create a scatter plot.\n",
    "    f = plt.figure(figsize=(8, 8))\n",
    "    ax = plt.subplot(aspect='equal')\n",
    "    sc = ax.scatter(x[:,0], x[:,1], lw=0, s=40,\n",
    "                    c=palette[colors.astype(np.int)])\n",
    "    plt.xlim(-25, 25)\n",
    "    plt.ylim(-25, 25)\n",
    "    ax.axis('off')\n",
    "    ax.axis('tight')\n",
    "\n",
    "    # We add the labels for each digit.\n",
    "    txts = []\n",
    "    for i in range(10):\n",
    "        # Position of each label.\n",
    "        xtext, ytext = np.median(x[colors == i, :], axis=0)\n",
    "        txt = ax.text(xtext, ytext, class_names[i], fontsize=15)\n",
    "        txt.set_path_effects([\n",
    "            PathEffects.Stroke(linewidth=5, foreground=\"w\"),\n",
    "            PathEffects.Normal()])\n",
    "        txts.append(txt)\n",
    "        \n",
    "def plot_tsne(X, y):\n",
    "    print('calculating tsne ...')\n",
    "    proj = TSNE(random_state=RS).fit_transform(X)\n",
    "    scatter(proj, y)"
   ]
  },
  {
   "cell_type": "code",
   "execution_count": null,
   "metadata": {
    "colab": {
     "base_uri": "https://localhost:8080/",
     "height": 1000
    },
    "colab_type": "code",
    "id": "S0Uk0lbIjzJV",
    "outputId": "476ef18e-4a88-478c-9d69-b57a03bcb284"
   },
   "outputs": [],
   "source": [
    "# Call download and load function & split into training testing\n",
    "x_train, y_train, x_test, y_test, class_names = download_and_load()"
   ]
  },
  {
   "cell_type": "code",
   "execution_count": null,
   "metadata": {
    "colab": {},
    "colab_type": "code",
    "id": "HSE_wgcqj1Bz"
   },
   "outputs": [],
   "source": [
    "# Visualizing 10 classes data\n",
    "def visualize_classes():\n",
    "    for i in range(0, 10):\n",
    "        img_batch = x_train[y_train == i][0:10]\n",
    "        img_batch = np.reshape(img_batch, (img_batch.shape[0]*img_batch.shape[1], img_batch.shape[2]))\n",
    "        if i > 0:\n",
    "            img = np.concatenate([img, img_batch], axis = 1)\n",
    "        else:\n",
    "            img = img_batch\n",
    "    plt.figure(figsize=(10,20))\n",
    "    plt.axis('off')\n",
    "    plt.imshow(img)"
   ]
  },
  {
   "cell_type": "code",
   "execution_count": null,
   "metadata": {
    "colab": {
     "base_uri": "https://localhost:8080/",
     "height": 589
    },
    "colab_type": "code",
    "id": "GTOXC_9wmEmu",
    "outputId": "d4d0aac9-9484-485e-ba12-49b66bf9a8f8"
   },
   "outputs": [],
   "source": [
    "visualize_classes()"
   ]
  },
  {
   "cell_type": "code",
   "execution_count": null,
   "metadata": {
    "colab": {
     "base_uri": "https://localhost:8080/",
     "height": 318
    },
    "colab_type": "code",
    "id": "C9ZdFLeymGoZ",
    "outputId": "499e270c-caf8-43f0-de0d-bc76d7a5df12"
   },
   "outputs": [],
   "source": [
    "data = {}\n",
    "data['train'] = y_train\n",
    "df = pd.DataFrame.from_dict(data)\n",
    "ax = sns.countplot(x = 'train', data=df).set_title(\"Distirubtion of the labels in the training set\")"
   ]
  },
  {
   "cell_type": "code",
   "execution_count": null,
   "metadata": {
    "colab": {
     "base_uri": "https://localhost:8080/",
     "height": 318
    },
    "colab_type": "code",
    "id": "inCvBWf6mI_U",
    "outputId": "2779ef1c-09d7-4b18-e3d6-0460b130ef75"
   },
   "outputs": [],
   "source": [
    "data = {}\n",
    "data['test'] = y_test\n",
    "df = pd.DataFrame.from_dict(data)\n",
    "ax = sns.countplot(x = 'test', data=df).set_title(\"Distirubtion of the labels in the testing set\")"
   ]
  },
  {
   "cell_type": "code",
   "execution_count": null,
   "metadata": {
    "colab": {},
    "colab_type": "code",
    "id": "Hw0vekmLmMS5"
   },
   "outputs": [],
   "source": [
    "# Reshaping and categorical conversions\n",
    "image_size = 28\n",
    "\n",
    "# Reshape and normalize\n",
    "x_train = x_train.reshape(x_train.shape[0], image_size, image_size, 1).astype('float32')\n",
    "x_test = x_test.reshape(x_test.shape[0], image_size, image_size, 1).astype('float32')\n",
    "\n",
    "x_train /= 255.0\n",
    "x_test /= 255.0\n",
    "\n",
    "# Convert class vectors to class matrices\n",
    "y_train = keras.utils.to_categorical(y_train, len(class_names))\n",
    "y_test = keras.utils.to_categorical(y_test, len(class_names))"
   ]
  },
  {
   "cell_type": "code",
   "execution_count": null,
   "metadata": {
    "colab": {},
    "colab_type": "code",
    "id": "QdEYWCFRmOkJ"
   },
   "outputs": [],
   "source": [
    "# Creating sequential model - CNN\n",
    "def create_cnn_model_v2(num_classes, input_shape) :\n",
    "    \n",
    "    # Initialising the CNN\n",
    "    model = Sequential()\n",
    "    \n",
    "    # 1 - Convolution Layer\n",
    "    #ReLU function to introduce non linearity in our CNN\n",
    "    model.add(Conv2D(30, (5, 5), input_shape=input_shape, activation='relu'))\n",
    "    \n",
    "#     improves the performance and stability of NNs by providing inputs with zero mean and unit varianc\n",
    "    model.add(BatchNormalization())\n",
    "    model.add(Activation('relu'))\n",
    "    model.add(MaxPooling2D(pool_size=(2, 2))) #\n",
    "    model.add(Dropout(0.25)) #reduces overfitting\n",
    "    \n",
    "    # 2nd Convolution layer\n",
    "    model.add(Conv2D(64, (3, 3), activation='relu')) \n",
    "    model.add(BatchNormalization())\n",
    "    model.add(Activation('relu'))\n",
    "    model.add(MaxPooling2D(pool_size=(2, 2))) #max,sum,mean\n",
    "    model.add(Dropout(0.25)) #reduces overfitting\n",
    "    \n",
    "    # Flattening\n",
    "    model.add(Flatten())\n",
    "    \n",
    "    # Fully connected layer 1st layer\n",
    "    model.add(Dense(128, activation='relu'))\n",
    "    model.add(BatchNormalization())\n",
    "    model.add(Activation('relu'))\n",
    "    model.add(Dropout(0.25))\n",
    "    \n",
    "    # Fully connected layer 2nd layer\n",
    "    model.add(Dense(50, activation='relu'))\n",
    "    model.add(BatchNormalization())\n",
    "    model.add(Activation('relu'))\n",
    "    model.add(Dropout(0.25))\n",
    "    \n",
    "    \n",
    "    model.add(Dense(num_classes, activation='softmax'))\n",
    "    opt = Adam(lr=0.001)\n",
    "\n",
    "    # compile model\n",
    "    model.compile(optimizer=opt, loss='categorical_crossentropy', metrics=['accuracy'])\n",
    "    \n",
    "    return model"
   ]
  },
  {
   "cell_type": "code",
   "execution_count": null,
   "metadata": {
    "colab": {
     "base_uri": "https://localhost:8080/",
     "height": 377
    },
    "colab_type": "code",
    "id": "fVWv_MBomRdp",
    "outputId": "e508e30a-a791-4053-afcf-864f515b9e1e"
   },
   "outputs": [],
   "source": [
    "# Creating and fitting of model\n",
    "n_classes = len(class_names)\n",
    "input_shape = (28, 28, 1)\n",
    "model = create_cnn_model_v2(num_classes=n_classes, input_shape=input_shape)\n",
    "hist = model.fit(x=x_train, y=y_train, batch_size=100, epochs=10,validation_split=0.1)"
   ]
  },
  {
   "cell_type": "code",
   "execution_count": null,
   "metadata": {
    "colab": {
     "base_uri": "https://localhost:8080/",
     "height": 318
    },
    "colab_type": "code",
    "id": "QHMb7bTYm0dZ",
    "outputId": "6c435622-99e8-4feb-8380-732562bb5cd3"
   },
   "outputs": [],
   "source": [
    "#Visualize the models accuracy\n",
    "plt.plot(hist.history['accuracy'])\n",
    "plt.plot(hist.history['val_accuracy'])\n",
    "plt.title('Model accuracy')\n",
    "plt.ylabel('Accuracy')\n",
    "plt.xlabel('Epoch')\n",
    "plt.legend(['Train', 'Val'], loc='upper left')\n",
    "plt.show()"
   ]
  },
  {
   "cell_type": "code",
   "execution_count": null,
   "metadata": {
    "colab": {
     "base_uri": "https://localhost:8080/",
     "height": 34
    },
    "colab_type": "code",
    "id": "6deoCe6-N2VD",
    "outputId": "64a09506-c024-41bb-b1f8-8923c606d4d2"
   },
   "outputs": [],
   "source": [
    "# Evaluating \n",
    "score = model.evaluate(x_test, y_test, verbose=0)\n",
    "print('Test accuarcy: {:0.2f}%'.format(score[1] * 100))"
   ]
  },
  {
   "cell_type": "code",
   "execution_count": null,
   "metadata": {
    "colab": {
     "base_uri": "https://localhost:8080/",
     "height": 282
    },
    "colab_type": "code",
    "id": "TGcBO5a4N6SK",
    "outputId": "27e37dd3-eeff-4eb4-b20e-f99c90ba71f0"
   },
   "outputs": [],
   "source": [
    "#get predictions and true labels\n",
    "yhat = np.argmax(model.predict(x_test), axis = 1)\n",
    "y    = np.argmax(y_test, axis = 1)\n",
    "\n",
    "#get the indices of the bad labels \n",
    "bad_labels = np.argwhere((y == yhat) == False).squeeze()\n",
    "\n",
    "#choose a random index with incorrect label \n",
    "idx = np.random.choice(bad_labels)\n",
    "\n",
    "print('True Label ',class_names[y[idx]])\n",
    "print('Pred Label ',class_names[yhat[idx]])\n",
    "plt.imshow(x_test[idx].squeeze())\n",
    "plt.axis('off')\n",
    "plt.show()"
   ]
  },
  {
   "cell_type": "markdown",
   "metadata": {},
   "source": [
    "# Prediction Examples"
   ]
  },
  {
   "cell_type": "code",
   "execution_count": null,
   "metadata": {
    "scrolled": true
   },
   "outputs": [],
   "source": [
    "# Please define model name here\n",
    "\n",
    "model_name = 'doodle'\n",
    "\n",
    "model = load_model(model_name)"
   ]
  },
  {
   "cell_type": "code",
   "execution_count": null,
   "metadata": {},
   "outputs": [],
   "source": [
    "import cv2\n",
    "temp = 'alarm clock_9.png'\n",
    "print(temp)\n",
    "im_gray = cv2.imread(temp, cv2.IMREAD_GRAYSCALE)\n",
    "print(im_gray)\n",
    "\n",
    "\n",
    "img = cv2.resize(im_gray, (28, 28), interpolation=cv2.INTER_AREA)\n",
    "img = (img-255)/255\n",
    "print(img.shape)\n",
    "\n",
    "# displaying image\n",
    "print(plt.imshow(img, cmap='gray'))\n",
    "img=img.reshape(1,28,28,1)"
   ]
  },
  {
   "cell_type": "code",
   "execution_count": null,
   "metadata": {},
   "outputs": [],
   "source": [
    "prediction = model.predict_classes(img)\n",
    "prediction"
   ]
  },
  {
   "cell_type": "code",
   "execution_count": null,
   "metadata": {},
   "outputs": [],
   "source": [
    "prediction = model.predict_classes(img)\n",
    "label_map[prediction[0]]"
   ]
  },
  {
   "cell_type": "code",
   "execution_count": null,
   "metadata": {},
   "outputs": [],
   "source": [
    "# input image and find top 3 classes with respective classes\n",
    "temp = 'apple_7.png'\n",
    "\n",
    "im_gray = cv2.imread(temp, cv2.IMREAD_GRAYSCALE)\n",
    "print(im_gray.shape)\n",
    "\n",
    "img = cv2.resize(im_gray, (28, 28), interpolation=cv2.INTER_AREA)\n",
    "img = (img-255)/255\n",
    "print(img.shape)\n",
    "\n",
    "# displaying image\n",
    "print(plt.imshow(img, cmap='gray'))\n",
    "\n",
    "img=img.reshape(1,28,28,1)\n",
    "\n",
    "# predict all probabilities of input\n",
    "probabilities = model.predict_proba(img)\n",
    "# find sorted(smallest to largest prob.) index\n",
    "prob_index = probabilities.argsort()[::-3]\n",
    "list_prob = prob_index[0].tolist()\n",
    "top_prob = list_prob[-3:]\n",
    "top_prob.reverse()\n",
    "# find sorted(smallest to largest prob.) index\n",
    "prob_index = probabilities.argsort()[::-3]\n",
    "list_prob = prob_index[0].tolist()\n",
    "top_prob = list_prob[-3:]\n",
    "top_prob.reverse()\n",
    "print(\"Top 3 clases with resp. probabilities:\")\n",
    "for i in top_prob:\n",
    "    print(label_map[i], probabilities[0][i])"
   ]
  },
  {
   "cell_type": "code",
   "execution_count": null,
   "metadata": {},
   "outputs": [],
   "source": []
  }
 ],
 "metadata": {
  "colab": {
   "collapsed_sections": [],
   "name": "cnn_84_v2.ipynb",
   "provenance": [],
   "toc_visible": true
  },
  "kernelspec": {
   "display_name": "Python 3",
   "language": "python",
   "name": "python3"
  },
  "language_info": {
   "codemirror_mode": {
    "name": "ipython",
    "version": 3
   },
   "file_extension": ".py",
   "mimetype": "text/x-python",
   "name": "python",
   "nbconvert_exporter": "python",
   "pygments_lexer": "ipython3",
   "version": "3.7.6"
  }
 },
 "nbformat": 4,
 "nbformat_minor": 1
}
